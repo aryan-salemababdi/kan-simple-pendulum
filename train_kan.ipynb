{
 "cells": [
  {
   "cell_type": "code",
   "execution_count": 160,
   "id": "4782545f",
   "metadata": {},
   "outputs": [],
   "source": [
    "import torch\n",
    "import pandas as pd\n",
    "from kan import KAN\n",
    "from sklearn.model_selection import train_test_split\n",
    "import os"
   ]
  },
  {
   "cell_type": "code",
   "execution_count": 161,
   "id": "9f6c7741",
   "metadata": {},
   "outputs": [
    {
     "name": "stdout",
     "output_type": "stream",
     "text": [
      "Loading data...\n"
     ]
    }
   ],
   "source": [
    "print(\"Loading data...\")\n",
    "dataset = {}\n",
    "df = pd.read_csv('pendulum_data.csv')"
   ]
  },
  {
   "cell_type": "code",
   "execution_count": 162,
   "id": "a8bcabb6",
   "metadata": {},
   "outputs": [],
   "source": [
    "X = df[['length', 'gravity']].values\n",
    "y = df['period'].values.reshape(-1, 1)"
   ]
  },
  {
   "cell_type": "code",
   "execution_count": 163,
   "id": "ac5b3629",
   "metadata": {},
   "outputs": [],
   "source": [
    "X_train, X_test, y_train, y_test = train_test_split(X, y, test_size=0.2, random_state=42)\n",
    "dataset['train_input'] = torch.from_numpy(X_train).float()\n",
    "dataset['train_label'] = torch.from_numpy(y_train).float()\n",
    "dataset['test_input'] = torch.from_numpy(X_test).float()\n",
    "dataset['test_label'] = torch.from_numpy(y_test).float()"
   ]
  },
  {
   "cell_type": "code",
   "execution_count": 164,
   "id": "604806bd",
   "metadata": {},
   "outputs": [
    {
     "name": "stdout",
     "output_type": "stream",
     "text": [
      "Initializing KAN model...\n",
      "checkpoint directory created: ./model\n",
      "saving model version 0.0\n",
      "Training model...\n"
     ]
    },
    {
     "name": "stderr",
     "output_type": "stream",
     "text": [
      "| train_loss: 4.49e-01 | test_loss: 4.68e-01 | reg: 3.45e+00 | : 100%|█| 100/100 [00:03<00:00, 28.43"
     ]
    },
    {
     "name": "stdout",
     "output_type": "stream",
     "text": [
      "saving model version 0.1\n",
      "Plotting results...\n"
     ]
    },
    {
     "name": "stderr",
     "output_type": "stream",
     "text": [
      "\n"
     ]
    }
   ],
   "source": [
    "print(\"Initializing KAN model...\")\n",
    "model = KAN(width=[2, 1], grid=5, k=3, seed=0)\n",
    "print(\"Training model...\")\n",
    "model.fit(dataset, opt=\"LBFGS\", steps=100, lamb=0.01, lamb_l1=1.0)\n",
    "print(\"Plotting results...\")\n",
    "if not os.path.exists('plots'):\n",
    "    os.makedirs('plots')"
   ]
  },
  {
   "cell_type": "code",
   "execution_count": 165,
   "id": "06d5aada",
   "metadata": {},
   "outputs": [
    {
     "name": "stdout",
     "output_type": "stream",
     "text": [
      "Activation function plots saved in 'plots/' folder.\n"
     ]
    },
    {
     "data": {
      "image/png": "[encoded data removed]",
      "text/plain": [
       "<Figure size 500x200 with 4 Axes>"
      ]
     },
     "metadata": {},
     "output_type": "display_data"
    }
   ],
   "source": [
    "model.plot(folder=\"plots\", beta=10)\n",
    "print(\"Activation function plots saved in 'plots/' folder.\")"
   ]
  },
  {
   "cell_type": "code",
   "execution_count": 166,
   "id": "1fb69826",
   "metadata": {},
   "outputs": [
    {
     "name": "stdout",
     "output_type": "stream",
     "text": [
      "Pruning model and manually extracting symbolic formula...\n",
      "saving model version 0.2\n",
      "Pruned model plot saved in 'plots/' folder.\n"
     ]
    },
    {
     "data": {
      "image/png": "[encoded data removed]",
      "text/plain": [
       "<Figure size 500x200 with 4 Axes>"
      ]
     },
     "metadata": {},
     "output_type": "display_data"
    }
   ],
   "source": [
    "print(\"Pruning model and manually extracting symbolic formula...\")\n",
    "pruned_model = model.prune()\n",
    "pruned_model.plot(folder=\"plots\", title=\"Pruned Model\")\n",
    "print(\"Pruned model plot saved in 'plots/' folder.\")"
   ]
  },
  {
   "cell_type": "code",
   "execution_count": 167,
   "id": "31d36192",
   "metadata": {},
   "outputs": [
    {
     "name": "stdout",
     "output_type": "stream",
     "text": [
      "Attempting symbolic extraction using internal KAN tools...\n",
      "fixing (0,0,0) with x^0.5, r2=0.9991370439529419, c=2\n",
      "fixing (0,1,0) with 1/x^0.5, r2=0.9996287822723389, c=2\n",
      "saving model version 0.3\n",
      "Symbolic extraction failed: 'int' object is not subscriptable\n",
      "Please check the plots to interpret the learned functions manually.\n"
     ]
    }
   ],
   "source": [
    "try:\n",
    "    print(\"Attempting symbolic extraction using internal KAN tools...\")\n",
    "    pruned_model.auto_symbolic()\n",
    "    formula_length, _ = pruned_model.symbolic_formula(0)\n",
    "    formula_gravity, _ = pruned_model.symbolic_formula(1)\n",
    "    print(\"\\n--- Symbolic Formula Discovery ---\")\n",
    "    print(f\"f(L) = {formula_length}\")\n",
    "    print(f\"f(g) = {formula_gravity}\")\n",
    "except Exception as e:\n",
    "    print(f\"Symbolic extraction failed: {e}\")\n",
    "    print(\"Please check the plots to interpret the learned functions manually.\")"
   ]
  }
 ],
 "metadata": {
  "kernelspec": {
   "display_name": "Python 3",
   "language": "python",
   "name": "python3"
  },
  "language_info": {
   "codemirror_mode": {
    "name": "ipython",
    "version": 3
   },
   "file_extension": ".py",
   "mimetype": "text/x-python",
   "name": "python",
   "nbconvert_exporter": "python",
   "pygments_lexer": "ipython3",
   "version": "3.13.3"
  }
 },
 "nbformat": 4,
 "nbformat_minor": 5
}
